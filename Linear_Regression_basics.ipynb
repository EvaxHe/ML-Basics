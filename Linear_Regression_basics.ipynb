{
  "nbformat": 4,
  "nbformat_minor": 0,
  "metadata": {
    "colab": {
      "name": "Linear Regression - basics.ipynb",
      "provenance": [],
      "collapsed_sections": [],
      "toc_visible": true,
      "authorship_tag": "ABX9TyO+8i+ItZwA++7fCt1pOVXo",
      "include_colab_link": true
    },
    "kernelspec": {
      "name": "python3",
      "display_name": "Python 3"
    },
    "language_info": {
      "name": "python"
    }
  },
  "cells": [
    {
      "cell_type": "markdown",
      "metadata": {
        "id": "view-in-github",
        "colab_type": "text"
      },
      "source": [
        "<a href=\"https://colab.research.google.com/github/EvaxHe/Machine-Learning-Basics/blob/main/Linear_Regression_basics.ipynb\" target=\"_parent\"><img src=\"https://colab.research.google.com/assets/colab-badge.svg\" alt=\"Open In Colab\"/></a>"
      ]
    },
    {
      "cell_type": "code",
      "metadata": {
        "id": "TiHVoEQQYGhm"
      },
      "source": [
        "import numpy as np \n",
        "from sklearn.linear_model import LinearRegression \n",
        "import pandas as pd\n",
        "import matplotlib.pyplot as plt\n",
        "import seaborn as sns \n",
        "from sklearn.metrics import r2_score, mean_squared_error"
      ],
      "execution_count": null,
      "outputs": []
    },
    {
      "cell_type": "code",
      "metadata": {
        "id": "7sUKgQx0ZI3p"
      },
      "source": [
        "x = np.array([5, 15, 25, 35, 45, 55]).reshape((-1, 1))\n",
        "y = np.array([5, 20, 14, 32, 22, 38])"
      ],
      "execution_count": null,
      "outputs": []
    },
    {
      "cell_type": "markdown",
      "metadata": {
        "id": "8vspHbANa1Nu"
      },
      "source": [
        "## Functions to get Mean, Variance, Covariance, and r-squared"
      ]
    },
    {
      "cell_type": "code",
      "metadata": {
        "id": "TXWUphYRay1h"
      },
      "source": [
        "def get_mean(arr):\n",
        "  return np.sum(arr)/len(arr)\n",
        "\n",
        "def get_variance(arr, mean): # actually need N \n",
        "  return np.sum((arr-mean)**2)\n",
        "\n",
        "def get_covariance(arr_x, mean_x, arr_y, mean_y): # need to add /N\n",
        "  return np.sum((arr_x - mean_x)*(arr_y - mean_y))\n",
        "\n",
        "def get_r_squared(arr_y, pred_y, mean_y):\n",
        "  rss = np.sum((arr_y - pred_y)**2)\n",
        "  tss = np.sum((arr_y - mean_y)**2)\n",
        "  return 1 - (rss/tss)"
      ],
      "execution_count": null,
      "outputs": []
    },
    {
      "cell_type": "markdown",
      "metadata": {
        "id": "kZNF0oqqlCp1"
      },
      "source": [
        "## Function to get MSE "
      ]
    },
    {
      "cell_type": "code",
      "metadata": {
        "id": "QBArik8FhM3i"
      },
      "source": [
        "def get_mse(arr_y,pred_y,n):\n",
        "  return np.sum((arr_y-pred_y)**2)/n\n"
      ],
      "execution_count": null,
      "outputs": []
    },
    {
      "cell_type": "code",
      "metadata": {
        "id": "in8egUiklF6A"
      },
      "source": [
        "# another way \n",
        "true_value_of_y = [3,2,6,1,5]\n",
        "predicted_value_of_y = [2.0,2.4,2.8,3.2,3.6]\n",
        "summation_of_value = 0 \n",
        "n = len(true_value_of_y) \n",
        "for i in range (0,n):\n",
        "  difference_of_value = true_value_of_y[i] - predicted_value_of_y[i]  \n",
        "  squared_difference = difference_of_value**2  \n",
        "  summation_of_value += squared_difference\n",
        "MSE = summation_of_value/n  \n",
        "print (\"The Mean Squared Error is: \" , MSE)"
      ],
      "execution_count": null,
      "outputs": []
    },
    {
      "cell_type": "markdown",
      "metadata": {
        "id": "SgroCwkJeptq"
      },
      "source": [
        "## Function to find coeff"
      ]
    },
    {
      "cell_type": "code",
      "metadata": {
        "id": "meoHYz1ueuat"
      },
      "source": [
        "def get_coefficients(x,y):  ## y = c + mx\n",
        "  x_mean = get_mean(x)\n",
        "  y_mean = get_mean(y)\n",
        "  m = get_covariance(x, x_mean, y, y_mean) / get_variance(x, x_mean)\n",
        "  c = y_mean - m*x_mean\n",
        "\n",
        "  return m,c"
      ],
      "execution_count": null,
      "outputs": []
    },
    {
      "cell_type": "markdown",
      "metadata": {
        "id": "h5sgehWVfvCT"
      },
      "source": [
        "## Function for Linear Regression"
      ]
    },
    {
      "cell_type": "code",
      "metadata": {
        "id": "fEWFGcjcfvs2"
      },
      "source": [
        "def linear_regression(x_train, y_train, x_test, y_test):\n",
        "  prediction = []\n",
        "  m,c = get_coefficients(x_train, y_train)\n",
        "  for x in x_test:\n",
        "    y = m*x + c\n",
        "    prediction.append(y)\n",
        "\n",
        "  # r2 = get_r_squared(y_train,prediction,y_mean)\n",
        "  # mse = get_mse(y_train,prediction,len(y_train))\n",
        "  # print(\"The R2 score of the model is: \", r2)\n",
        "  # print(\"The MSE score of the model is: \", mse)\n",
        "  return prediction "
      ],
      "execution_count": null,
      "outputs": []
    },
    {
      "cell_type": "code",
      "metadata": {
        "colab": {
          "base_uri": "https://localhost:8080/"
        },
        "id": "fjtUSEeXijDz",
        "outputId": "2a666a26-975f-40ba-f0e2-445829ed979b"
      },
      "source": [
        "linear_regression(x[:80], y[:80], x[80:], y[80:])"
      ],
      "execution_count": null,
      "outputs": [
        {
          "output_type": "execute_result",
          "data": {
            "text/plain": [
              "[]"
            ]
          },
          "metadata": {},
          "execution_count": 15
        }
      ]
    },
    {
      "cell_type": "markdown",
      "metadata": {
        "id": "MkuIQfKolW7J"
      },
      "source": [
        "reference:\n",
        "\n",
        " https://realpython.com/linear-regression-in-python/\n",
        "\n",
        "https://www.pythonpool.com/mean-squared-error-python/"
      ]
    }
  ]
}